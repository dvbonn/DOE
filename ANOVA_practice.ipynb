{
 "cells": [
  {
   "cell_type": "code",
   "execution_count": null,
   "id": "1aae8e64-fea6-4200-a76d-c02e9e749290",
   "metadata": {
    "vscode": {
     "languageId": "r"
    }
   },
   "outputs": [],
   "source": [
    "# Phân tích phương sai một chiều (ANOVA) với dữ liệu từ đề bài\n",
    "# Dữ liệu từ đề bài\n",
    "group1 <- c(3.52, 3.36, 3.57, 4.19, 3.88, 3.76, 3.94)\n",
    "group2 <- c(3.47, 3.73, 3.38, 3.87, 3.69, 3.51, 3.35, 3.64)\n",
    "group3 <- c(3.54, 3.52, 3.61, 3.76, 3.65, 3.51)\n",
    "group4 <- c(3.74, 3.83, 3.87, 4.08, 4.31, 3.98, 3.86, 3.71)"
   ]
  },
  {
   "cell_type": "code",
   "execution_count": 31,
   "id": "61902e5e-82eb-42b6-9409-c143aa433686",
   "metadata": {
    "vscode": {
     "languageId": "r"
    }
   },
   "outputs": [
    {
     "data": {
      "text/html": [
       "3.74571428571429"
      ],
      "text/latex": [
       "3.74571428571429"
      ],
      "text/markdown": [
       "3.74571428571429"
      ],
      "text/plain": [
       "[1] 3.745714"
      ]
     },
     "metadata": {},
     "output_type": "display_data"
    },
    {
     "data": {
      "text/html": [
       "3.58"
      ],
      "text/latex": [
       "3.58"
      ],
      "text/markdown": [
       "3.58"
      ],
      "text/plain": [
       "[1] 3.58"
      ]
     },
     "metadata": {},
     "output_type": "display_data"
    },
    {
     "data": {
      "text/html": [
       "3.59833333333333"
      ],
      "text/latex": [
       "3.59833333333333"
      ],
      "text/markdown": [
       "3.59833333333333"
      ],
      "text/plain": [
       "[1] 3.598333"
      ]
     },
     "metadata": {},
     "output_type": "display_data"
    },
    {
     "data": {
      "text/html": [
       "3.9225"
      ],
      "text/latex": [
       "3.9225"
      ],
      "text/markdown": [
       "3.9225"
      ],
      "text/plain": [
       "[1] 3.9225"
      ]
     },
     "metadata": {},
     "output_type": "display_data"
    },
    {
     "data": {
      "text/html": [
       "3.7116369047619"
      ],
      "text/latex": [
       "3.7116369047619"
      ],
      "text/markdown": [
       "3.7116369047619"
      ],
      "text/plain": [
       "[1] 3.711637"
      ]
     },
     "metadata": {},
     "output_type": "display_data"
    }
   ],
   "source": [
    "# a) option 1\n",
    "y_bar1 <- mean(group1)\n",
    "y_bar2 <- mean(group2)\n",
    "y_bar3 <- mean(group3)\n",
    "y_bar4 <- mean(group4)\n",
    "y_bar <- mean(c(y_bar1,y_bar2,y_bar3,y_bar4))\n",
    "\n",
    "y_bar1\n",
    "y_bar2\n",
    "y_bar3\n",
    "y_bar4\n",
    "y_bar"
   ]
  },
  {
   "cell_type": "code",
   "execution_count": 23,
   "id": "2dc2c723-756a-402e-8a1c-7eb7c542fced",
   "metadata": {
    "vscode": {
     "languageId": "r"
    }
   },
   "outputs": [],
   "source": [
    "# Tạo data frame\n",
    "group <- factor(c(rep(1, length(group1)), rep(2, length(group2)),\n",
    "                  rep(3, length(group3)), rep(4, length(group4))))\n",
    "value <- c(group1, group2, group3, group4)\n",
    "\n",
    "data <- data.frame(group, value)"
   ]
  },
  {
   "cell_type": "code",
   "execution_count": 29,
   "id": "046abd9b-012c-4c31-a0fa-9aab4fb68a98",
   "metadata": {
    "vscode": {
     "languageId": "r"
    }
   },
   "outputs": [
    {
     "data": {
      "text/html": [
       "3.71827586206897"
      ],
      "text/latex": [
       "3.71827586206897"
      ],
      "text/markdown": [
       "3.71827586206897"
      ],
      "text/plain": [
       "[1] 3.718276"
      ]
     },
     "metadata": {},
     "output_type": "display_data"
    },
    {
     "data": {
      "text/html": [
       "<style>\n",
       ".dl-inline {width: auto; margin:0; padding: 0}\n",
       ".dl-inline>dt, .dl-inline>dd {float: none; width: auto; display: inline-block}\n",
       ".dl-inline>dt::after {content: \":\\0020\"; padding-right: .5ex}\n",
       ".dl-inline>dt:not(:first-of-type) {padding-left: .5ex}\n",
       "</style><dl class=dl-inline><dt>1</dt><dd>3.74571428571429</dd><dt>2</dt><dd>3.58</dd><dt>3</dt><dd>3.59833333333333</dd><dt>4</dt><dd>3.9225</dd></dl>\n"
      ],
      "text/latex": [
       "\\begin{description*}\n",
       "\\item[1] 3.74571428571429\n",
       "\\item[2] 3.58\n",
       "\\item[3] 3.59833333333333\n",
       "\\item[4] 3.9225\n",
       "\\end{description*}\n"
      ],
      "text/markdown": [
       "1\n",
       ":   3.745714285714292\n",
       ":   3.583\n",
       ":   3.598333333333334\n",
       ":   3.9225\n",
       "\n"
      ],
      "text/plain": [
       "       1        2        3        4 \n",
       "3.745714 3.580000 3.598333 3.922500 "
      ]
     },
     "metadata": {},
     "output_type": "display_data"
    }
   ],
   "source": [
    "# a) option 2\n",
    "mean_all <- mean(data$value)\n",
    "mean_by_group <- tapply(data$value, data$group, mean)\n",
    "\n",
    "mean_all\n",
    "mean_by_group"
   ]
  },
  {
   "cell_type": "code",
   "execution_count": 30,
   "id": "b60bb782-06e2-41ce-b889-b29bff91b9d9",
   "metadata": {
    "vscode": {
     "languageId": "r"
    }
   },
   "outputs": [
    {
     "data": {
      "text/plain": [
       "            Df Sum Sq Mean Sq F value Pr(>F)  \n",
       "group        3 0.5782 0.19274   4.658 0.0102 *\n",
       "Residuals   25 1.0344 0.04138                 \n",
       "---\n",
       "Signif. codes:  0 '***' 0.001 '**' 0.01 '*' 0.05 '.' 0.1 ' ' 1"
      ]
     },
     "metadata": {},
     "output_type": "display_data"
    }
   ],
   "source": [
    "# b) Phân tích phương sai ANOVA\n",
    "anova_result <- aov(value ~ group, data = data)\n",
    "summary(anova_result)"
   ]
  },
  {
   "cell_type": "code",
   "execution_count": 25,
   "id": "0bef0fc9-277d-4c77-b950-e68c511e5f80",
   "metadata": {
    "vscode": {
     "languageId": "r"
    }
   },
   "outputs": [
    {
     "name": "stdout",
     "output_type": "stream",
     "text": [
      "Group 1 : Mean = 3.746  | 95% CI = [ 3.483 , 4.008 ]\n",
      "Group 2 : Mean = 3.58  | 95% CI = [ 3.428 , 3.732 ]\n",
      "Group 3 : Mean = 3.598  | 95% CI = [ 3.497 , 3.699 ]\n",
      "Group 4 : Mean = 3.922  | 95% CI = [ 3.758 , 4.087 ]\n"
     ]
    }
   ],
   "source": [
    "# c)Khoảng tin cậy 95% trung bình mỗi nhóm\n",
    "group_names <- unique(data$group)\n",
    "\n",
    "for (g in group_names) {\n",
    "  group_values <- data$value[data$group == g]\n",
    "  n <- length(group_values)\n",
    "  mean_val <- mean(group_values)\n",
    "  sd_val <- sd(group_values)\n",
    "  se <- sd_val / sqrt(n)\n",
    "  t_val <- qt(0.975, df = n - 1)\n",
    "  ci_lower <- mean_val - t_val * se\n",
    "  ci_upper <- mean_val + t_val * se\n",
    "  \n",
    "  cat(\"Group\", g, \": Mean =\", round(mean_val, 3), \n",
    "      \" | 95% CI = [\", round(ci_lower, 3), \",\", round(ci_upper, 3), \"]\\n\")\n",
    "}"
   ]
  },
  {
   "cell_type": "code",
   "execution_count": 28,
   "id": "ebe2f0c4-cb26-4a8b-998b-1e9b43db9742",
   "metadata": {
    "vscode": {
     "languageId": "r"
    }
   },
   "outputs": [
    {
     "data": {
      "text/html": [
       "<table class=\"dataframe\">\n",
       "<caption>A matrix: 6 × 4 of type dbl</caption>\n",
       "<thead>\n",
       "\t<tr><th></th><th scope=col>diff</th><th scope=col>lwr</th><th scope=col>upr</th><th scope=col>p adj</th></tr>\n",
       "</thead>\n",
       "<tbody>\n",
       "\t<tr><th scope=row>2-1</th><td>-0.16571429</td><td>-0.45528935</td><td>0.1238608</td><td>0.41087587</td></tr>\n",
       "\t<tr><th scope=row>3-1</th><td>-0.14738095</td><td>-0.45866479</td><td>0.1639029</td><td>0.57004224</td></tr>\n",
       "\t<tr><th scope=row>4-1</th><td> 0.17678571</td><td>-0.11278935</td><td>0.4663608</td><td>0.35521232</td></tr>\n",
       "\t<tr><th scope=row>3-2</th><td> 0.01833333</td><td>-0.28383778</td><td>0.3205044</td><td>0.99830100</td></tr>\n",
       "\t<tr><th scope=row>4-2</th><td> 0.34250000</td><td> 0.06274391</td><td>0.6222561</td><td>0.01229881</td></tr>\n",
       "\t<tr><th scope=row>4-3</th><td> 0.32416667</td><td> 0.02199555</td><td>0.6263378</td><td>0.03221603</td></tr>\n",
       "</tbody>\n",
       "</table>\n"
      ],
      "text/latex": [
       "A matrix: 6 × 4 of type dbl\n",
       "\\begin{tabular}{r|llll}\n",
       "  & diff & lwr & upr & p adj\\\\\n",
       "\\hline\n",
       "\t2-1 & -0.16571429 & -0.45528935 & 0.1238608 & 0.41087587\\\\\n",
       "\t3-1 & -0.14738095 & -0.45866479 & 0.1639029 & 0.57004224\\\\\n",
       "\t4-1 &  0.17678571 & -0.11278935 & 0.4663608 & 0.35521232\\\\\n",
       "\t3-2 &  0.01833333 & -0.28383778 & 0.3205044 & 0.99830100\\\\\n",
       "\t4-2 &  0.34250000 &  0.06274391 & 0.6222561 & 0.01229881\\\\\n",
       "\t4-3 &  0.32416667 &  0.02199555 & 0.6263378 & 0.03221603\\\\\n",
       "\\end{tabular}\n"
      ],
      "text/markdown": [
       "\n",
       "A matrix: 6 × 4 of type dbl\n",
       "\n",
       "| <!--/--> | diff | lwr | upr | p adj |\n",
       "|---|---|---|---|---|\n",
       "| 2-1 | -0.16571429 | -0.45528935 | 0.1238608 | 0.41087587 |\n",
       "| 3-1 | -0.14738095 | -0.45866479 | 0.1639029 | 0.57004224 |\n",
       "| 4-1 |  0.17678571 | -0.11278935 | 0.4663608 | 0.35521232 |\n",
       "| 3-2 |  0.01833333 | -0.28383778 | 0.3205044 | 0.99830100 |\n",
       "| 4-2 |  0.34250000 |  0.06274391 | 0.6222561 | 0.01229881 |\n",
       "| 4-3 |  0.32416667 |  0.02199555 | 0.6263378 | 0.03221603 |\n",
       "\n"
      ],
      "text/plain": [
       "    diff        lwr         upr       p adj     \n",
       "2-1 -0.16571429 -0.45528935 0.1238608 0.41087587\n",
       "3-1 -0.14738095 -0.45866479 0.1639029 0.57004224\n",
       "4-1  0.17678571 -0.11278935 0.4663608 0.35521232\n",
       "3-2  0.01833333 -0.28383778 0.3205044 0.99830100\n",
       "4-2  0.34250000  0.06274391 0.6222561 0.01229881\n",
       "4-3  0.32416667  0.02199555 0.6263378 0.03221603"
      ]
     },
     "metadata": {},
     "output_type": "display_data"
    },
    {
     "data": {
      "text/html": [
       "<style>\n",
       ".dl-inline {width: auto; margin:0; padding: 0}\n",
       ".dl-inline>dt, .dl-inline>dd {float: none; width: auto; display: inline-block}\n",
       ".dl-inline>dt::after {content: \":\\0020\"; padding-right: .5ex}\n",
       ".dl-inline>dt:not(:first-of-type) {padding-left: .5ex}\n",
       "</style><dl class=dl-inline><dt>diff</dt><dd>0.3425</dd><dt>lwr</dt><dd>0.0627439107067432</dd><dt>upr</dt><dd>0.622256089293256</dd><dt>p adj</dt><dd>0.0122988133191633</dd></dl>\n"
      ],
      "text/latex": [
       "\\begin{description*}\n",
       "\\item[diff] 0.3425\n",
       "\\item[lwr] 0.0627439107067432\n",
       "\\item[upr] 0.622256089293256\n",
       "\\item[p adj] 0.0122988133191633\n",
       "\\end{description*}\n"
      ],
      "text/markdown": [
       "diff\n",
       ":   0.3425lwr\n",
       ":   0.0627439107067432upr\n",
       ":   0.622256089293256p adj\n",
       ":   0.0122988133191633\n",
       "\n"
      ],
      "text/plain": [
       "      diff        lwr        upr      p adj \n",
       "0.34250000 0.06274391 0.62225609 0.01229881 "
      ]
     },
     "metadata": {},
     "output_type": "display_data"
    }
   ],
   "source": [
    "# d) Phân tích Tukey HSD (so sánh nhóm 4 và 2)\n",
    "tukey_result <- TukeyHSD(anova_result)\n",
    "tukey_result$group  # hoặc print toàn bộ nếu muốn xem hết\n",
    "\n",
    "# Lấy dòng 4-2\n",
    "tukey_result$group[\"4-2\", ]"
   ]
  },
  {
   "cell_type": "code",
   "execution_count": 26,
   "id": "1f5b30b6-7d4a-4111-aa38-340be200156e",
   "metadata": {
    "vscode": {
     "languageId": "r"
    }
   },
   "outputs": [
    {
     "data": {
      "text/html": [
       "<table class=\"dataframe\">\n",
       "<caption>A matrix: 6 × 4 of type dbl</caption>\n",
       "<thead>\n",
       "\t<tr><th></th><th scope=col>diff</th><th scope=col>lwr</th><th scope=col>upr</th><th scope=col>p adj</th></tr>\n",
       "</thead>\n",
       "<tbody>\n",
       "\t<tr><th scope=row>2-1</th><td>-0.16571429</td><td>-0.45528935</td><td>0.1238608</td><td>0.41087587</td></tr>\n",
       "\t<tr><th scope=row>3-1</th><td>-0.14738095</td><td>-0.45866479</td><td>0.1639029</td><td>0.57004224</td></tr>\n",
       "\t<tr><th scope=row>4-1</th><td> 0.17678571</td><td>-0.11278935</td><td>0.4663608</td><td>0.35521232</td></tr>\n",
       "\t<tr><th scope=row>3-2</th><td> 0.01833333</td><td>-0.28383778</td><td>0.3205044</td><td>0.99830100</td></tr>\n",
       "\t<tr><th scope=row>4-2</th><td> 0.34250000</td><td> 0.06274391</td><td>0.6222561</td><td>0.01229881</td></tr>\n",
       "\t<tr><th scope=row>4-3</th><td> 0.32416667</td><td> 0.02199555</td><td>0.6263378</td><td>0.03221603</td></tr>\n",
       "</tbody>\n",
       "</table>\n"
      ],
      "text/latex": [
       "A matrix: 6 × 4 of type dbl\n",
       "\\begin{tabular}{r|llll}\n",
       "  & diff & lwr & upr & p adj\\\\\n",
       "\\hline\n",
       "\t2-1 & -0.16571429 & -0.45528935 & 0.1238608 & 0.41087587\\\\\n",
       "\t3-1 & -0.14738095 & -0.45866479 & 0.1639029 & 0.57004224\\\\\n",
       "\t4-1 &  0.17678571 & -0.11278935 & 0.4663608 & 0.35521232\\\\\n",
       "\t3-2 &  0.01833333 & -0.28383778 & 0.3205044 & 0.99830100\\\\\n",
       "\t4-2 &  0.34250000 &  0.06274391 & 0.6222561 & 0.01229881\\\\\n",
       "\t4-3 &  0.32416667 &  0.02199555 & 0.6263378 & 0.03221603\\\\\n",
       "\\end{tabular}\n"
      ],
      "text/markdown": [
       "\n",
       "A matrix: 6 × 4 of type dbl\n",
       "\n",
       "| <!--/--> | diff | lwr | upr | p adj |\n",
       "|---|---|---|---|---|\n",
       "| 2-1 | -0.16571429 | -0.45528935 | 0.1238608 | 0.41087587 |\n",
       "| 3-1 | -0.14738095 | -0.45866479 | 0.1639029 | 0.57004224 |\n",
       "| 4-1 |  0.17678571 | -0.11278935 | 0.4663608 | 0.35521232 |\n",
       "| 3-2 |  0.01833333 | -0.28383778 | 0.3205044 | 0.99830100 |\n",
       "| 4-2 |  0.34250000 |  0.06274391 | 0.6222561 | 0.01229881 |\n",
       "| 4-3 |  0.32416667 |  0.02199555 | 0.6263378 | 0.03221603 |\n",
       "\n"
      ],
      "text/plain": [
       "    diff        lwr         upr       p adj     \n",
       "2-1 -0.16571429 -0.45528935 0.1238608 0.41087587\n",
       "3-1 -0.14738095 -0.45866479 0.1639029 0.57004224\n",
       "4-1  0.17678571 -0.11278935 0.4663608 0.35521232\n",
       "3-2  0.01833333 -0.28383778 0.3205044 0.99830100\n",
       "4-2  0.34250000  0.06274391 0.6222561 0.01229881\n",
       "4-3  0.32416667  0.02199555 0.6263378 0.03221603"
      ]
     },
     "metadata": {},
     "output_type": "display_data"
    }
   ],
   "source": [
    "# e)Khoảng tin cậy các cặp chênh lệch (T2–T1, ..., T4–T3)\n",
    "tukey_result$group"
   ]
  },
  {
   "cell_type": "code",
   "execution_count": 27,
   "id": "d356fcf6-9a15-466f-a087-e6f279ca4001",
   "metadata": {
    "vscode": {
     "languageId": "r"
    }
   },
   "outputs": [
    {
     "data": {
      "text/html": [
       "1.88888888888889"
      ],
      "text/latex": [
       "1.88888888888889"
      ],
      "text/markdown": [
       "1.88888888888889"
      ],
      "text/plain": [
       "[1] 1.888889"
      ]
     },
     "metadata": {},
     "output_type": "display_data"
    },
    {
     "data": {
      "text/html": [
       "3.09839121214078"
      ],
      "text/latex": [
       "3.09839121214078"
      ],
      "text/markdown": [
       "3.09839121214078"
      ],
      "text/plain": [
       "[1] 3.098391"
      ]
     },
     "metadata": {},
     "output_type": "display_data"
    }
   ],
   "source": [
    "# f) Lặp lại thử nghiệm (24 chuột, SS = 0.9)\n",
    "means_new <- c(3.8, 3.6, 3.65, 3.85)\n",
    "n_group <- 6\n",
    "k <- 4\n",
    "N <- k * n_group\n",
    "SS_total <- 0.9\n",
    "\n",
    "# Tính MS_between và MS_within\n",
    "MS_between <- n_group * var(means_new)\n",
    "MS_within <- SS_total / (N - k)\n",
    "\n",
    "F_stat <- MS_between / MS_within\n",
    "F_critical <- qf(0.95, df1 = k-1, df2 = N-k)\n",
    "\n",
    "F_stat\n",
    "F_critical\n"
   ]
  }
 ],
 "metadata": {
  "kernelspec": {
   "display_name": "R",
   "language": "R",
   "name": "ir"
  },
  "language_info": {
   "codemirror_mode": "r",
   "file_extension": ".r",
   "mimetype": "text/x-r-source",
   "name": "R",
   "pygments_lexer": "r",
   "version": "4.4.3"
  }
 },
 "nbformat": 4,
 "nbformat_minor": 5
}
