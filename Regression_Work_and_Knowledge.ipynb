{
 "cells": [
  {
   "cell_type": "markdown",
   "id": "6bcc70bf-03a2-4afa-9170-a2c09a89f9ae",
   "metadata": {},
   "source": [
    "### Nguyễn Đức Trung - 22521564"
   ]
  },
  {
   "cell_type": "markdown",
   "id": "60b5d994-2790-4793-adf7-25ea8f45ea9c",
   "metadata": {},
   "source": [
    "## Nhập dữ liệu"
   ]
  },
  {
   "cell_type": "code",
   "execution_count": 6,
   "id": "feb5e319-f73f-4588-88e0-b8e769341755",
   "metadata": {
    "vscode": {
     "languageId": "r"
    }
   },
   "outputs": [],
   "source": [
    "x <- c(10, 10, 20, 30, 30, 40, 40, 40)\n",
    "y <- c(64, 63, 72, 77, 78, 78, 74, 75)\n",
    "data <- data.frame(x, y)"
   ]
  },
  {
   "cell_type": "markdown",
   "id": "73841bf0-d03a-433d-bd9e-5f13b23405b3",
   "metadata": {},
   "source": [
    "## Hồi quy tuyến tính"
   ]
  },
  {
   "cell_type": "code",
   "execution_count": 7,
   "id": "6775f4ec-020a-4054-bbdb-e15d6d2a0fd8",
   "metadata": {
    "vscode": {
     "languageId": "r"
    }
   },
   "outputs": [
    {
     "data": {
      "text/plain": [
       "\n",
       "Call:\n",
       "lm(formula = y ~ x, data = data)\n",
       "\n",
       "Residuals:\n",
       "    Min      1Q  Median      3Q     Max \n",
       "-3.6522 -2.6033 -0.6196  2.6359  4.3696 \n",
       "\n",
       "Coefficients:\n",
       "            Estimate Std. Error t value Pr(>|t|)    \n",
       "(Intercept) 61.56522    2.93116  21.004 7.59e-07 ***\n",
       "x            0.40217    0.09771   4.116  0.00624 ** \n",
       "---\n",
       "Signif. codes:  0 '***' 0.001 '**' 0.01 '*' 0.05 '.' 0.1 ' ' 1\n",
       "\n",
       "Residual standard error: 3.313 on 6 degrees of freedom\n",
       "Multiple R-squared:  0.7385,\tAdjusted R-squared:  0.6949 \n",
       "F-statistic: 16.94 on 1 and 6 DF,  p-value: 0.006243\n"
      ]
     },
     "metadata": {},
     "output_type": "display_data"
    }
   ],
   "source": [
    "model_lm <- lm(y ~ x, data = data)\n",
    "summary(model_lm)"
   ]
  },
  {
   "cell_type": "markdown",
   "id": "13d85e74-284f-4398-aee0-41efb5024cec",
   "metadata": {},
   "source": [
    "## ANOVA cho mô hình tuyến tính"
   ]
  },
  {
   "cell_type": "code",
   "execution_count": 8,
   "id": "118377f8-e3cb-4eee-a5ba-040891fbeacd",
   "metadata": {
    "vscode": {
     "languageId": "r"
    }
   },
   "outputs": [
    {
     "data": {
      "text/html": [
       "<table class=\"dataframe\">\n",
       "<caption>A anova: 2 × 5</caption>\n",
       "<thead>\n",
       "\t<tr><th></th><th scope=col>Df</th><th scope=col>Sum Sq</th><th scope=col>Mean Sq</th><th scope=col>F value</th><th scope=col>Pr(&gt;F)</th></tr>\n",
       "\t<tr><th></th><th scope=col>&lt;int&gt;</th><th scope=col>&lt;dbl&gt;</th><th scope=col>&lt;dbl&gt;</th><th scope=col>&lt;dbl&gt;</th><th scope=col>&lt;dbl&gt;</th></tr>\n",
       "</thead>\n",
       "<tbody>\n",
       "\t<tr><th scope=row>x</th><td>1</td><td>186.00543</td><td>186.00543</td><td>16.94307</td><td>0.006242813</td></tr>\n",
       "\t<tr><th scope=row>Residuals</th><td>6</td><td> 65.86957</td><td> 10.97826</td><td>      NA</td><td>         NA</td></tr>\n",
       "</tbody>\n",
       "</table>\n"
      ],
      "text/latex": [
       "A anova: 2 × 5\n",
       "\\begin{tabular}{r|lllll}\n",
       "  & Df & Sum Sq & Mean Sq & F value & Pr(>F)\\\\\n",
       "  & <int> & <dbl> & <dbl> & <dbl> & <dbl>\\\\\n",
       "\\hline\n",
       "\tx & 1 & 186.00543 & 186.00543 & 16.94307 & 0.006242813\\\\\n",
       "\tResiduals & 6 &  65.86957 &  10.97826 &       NA &          NA\\\\\n",
       "\\end{tabular}\n"
      ],
      "text/markdown": [
       "\n",
       "A anova: 2 × 5\n",
       "\n",
       "| <!--/--> | Df &lt;int&gt; | Sum Sq &lt;dbl&gt; | Mean Sq &lt;dbl&gt; | F value &lt;dbl&gt; | Pr(&gt;F) &lt;dbl&gt; |\n",
       "|---|---|---|---|---|---|\n",
       "| x | 1 | 186.00543 | 186.00543 | 16.94307 | 0.006242813 |\n",
       "| Residuals | 6 |  65.86957 |  10.97826 |       NA |          NA |\n",
       "\n"
      ],
      "text/plain": [
       "          Df Sum Sq    Mean Sq   F value  Pr(>F)     \n",
       "x         1  186.00543 186.00543 16.94307 0.006242813\n",
       "Residuals 6   65.86957  10.97826       NA          NA"
      ]
     },
     "metadata": {},
     "output_type": "display_data"
    }
   ],
   "source": [
    "anova(model_lm)"
   ]
  },
  {
   "cell_type": "markdown",
   "id": "881a18aa-96de-409c-a14b-35470696c125",
   "metadata": {},
   "source": [
    "## Lack of list test tuyến tính "
   ]
  },
  {
   "cell_type": "code",
   "execution_count": 9,
   "id": "8c9cb567-a9e2-4371-b469-17d72910c636",
   "metadata": {
    "vscode": {
     "languageId": "r"
    }
   },
   "outputs": [
    {
     "data": {
      "text/html": [
       "<table class=\"dataframe\">\n",
       "<caption>A anova: 2 × 6</caption>\n",
       "<thead>\n",
       "\t<tr><th></th><th scope=col>Res.Df</th><th scope=col>RSS</th><th scope=col>Df</th><th scope=col>Sum of Sq</th><th scope=col>F</th><th scope=col>Pr(&gt;F)</th></tr>\n",
       "\t<tr><th></th><th scope=col>&lt;dbl&gt;</th><th scope=col>&lt;dbl&gt;</th><th scope=col>&lt;dbl&gt;</th><th scope=col>&lt;dbl&gt;</th><th scope=col>&lt;dbl&gt;</th><th scope=col>&lt;dbl&gt;</th></tr>\n",
       "</thead>\n",
       "<tbody>\n",
       "\t<tr><th scope=row>1</th><td>6</td><td>65.869565</td><td>NA</td><td>     NA</td><td>      NA</td><td>        NA</td></tr>\n",
       "\t<tr><th scope=row>2</th><td>4</td><td> 9.666667</td><td> 2</td><td>56.2029</td><td>11.62819</td><td>0.02153693</td></tr>\n",
       "</tbody>\n",
       "</table>\n"
      ],
      "text/latex": [
       "A anova: 2 × 6\n",
       "\\begin{tabular}{r|llllll}\n",
       "  & Res.Df & RSS & Df & Sum of Sq & F & Pr(>F)\\\\\n",
       "  & <dbl> & <dbl> & <dbl> & <dbl> & <dbl> & <dbl>\\\\\n",
       "\\hline\n",
       "\t1 & 6 & 65.869565 & NA &      NA &       NA &         NA\\\\\n",
       "\t2 & 4 &  9.666667 &  2 & 56.2029 & 11.62819 & 0.02153693\\\\\n",
       "\\end{tabular}\n"
      ],
      "text/markdown": [
       "\n",
       "A anova: 2 × 6\n",
       "\n",
       "| <!--/--> | Res.Df &lt;dbl&gt; | RSS &lt;dbl&gt; | Df &lt;dbl&gt; | Sum of Sq &lt;dbl&gt; | F &lt;dbl&gt; | Pr(&gt;F) &lt;dbl&gt; |\n",
       "|---|---|---|---|---|---|---|\n",
       "| 1 | 6 | 65.869565 | NA |      NA |       NA |         NA |\n",
       "| 2 | 4 |  9.666667 |  2 | 56.2029 | 11.62819 | 0.02153693 |\n",
       "\n"
      ],
      "text/plain": [
       "  Res.Df RSS       Df Sum of Sq F        Pr(>F)    \n",
       "1 6      65.869565 NA      NA         NA         NA\n",
       "2 4       9.666667  2 56.2029   11.62819 0.02153693"
      ]
     },
     "metadata": {},
     "output_type": "display_data"
    }
   ],
   "source": [
    "model_full <- lm(y ~ factor(x), data = data)\n",
    "\n",
    "#So sánh 2 mô hình \n",
    "anova(model_lm, model_full)"
   ]
  },
  {
   "cell_type": "markdown",
   "id": "62d4ace9-6505-49fc-83ad-ffc87b4eb2db",
   "metadata": {},
   "source": [
    "## Hồi quy bậc hai"
   ]
  },
  {
   "cell_type": "code",
   "execution_count": 10,
   "id": "c5f77bec-49a2-4a05-a689-68f3567dd052",
   "metadata": {
    "vscode": {
     "languageId": "r"
    }
   },
   "outputs": [
    {
     "data": {
      "text/plain": [
       "\n",
       "Call:\n",
       "lm(formula = y ~ x + x2, data = data)\n",
       "\n",
       "Residuals:\n",
       "       1        2        3        4        5        6        7        8 \n",
       " 0.65116 -0.34884 -0.90698 -0.04651  0.95349  2.23256 -1.76744 -0.76744 \n",
       "\n",
       "Coefficients:\n",
       "             Estimate Std. Error t value Pr(>|t|)    \n",
       "(Intercept) 48.372093   2.946063  16.419 1.53e-05 ***\n",
       "x            1.768605   0.276734   6.391  0.00139 ** \n",
       "x2          -0.027093   0.005418  -5.000  0.00410 ** \n",
       "---\n",
       "Signif. codes:  0 '***' 0.001 '**' 0.01 '*' 0.05 '.' 0.1 ' ' 1\n",
       "\n",
       "Residual standard error: 1.482 on 5 degrees of freedom\n",
       "Multiple R-squared:  0.9564,\tAdjusted R-squared:  0.939 \n",
       "F-statistic: 54.87 on 2 and 5 DF,  p-value: 0.0003965\n"
      ]
     },
     "metadata": {},
     "output_type": "display_data"
    }
   ],
   "source": [
    "#Tạo biến x2 = x^2\n",
    "data$x2 <- data$x^2\n",
    "\n",
    "#Hồi quy bậc hai \n",
    "model_quad <- lm(y ~ x + x2, data = data)\n",
    "summary(model_quad)"
   ]
  },
  {
   "cell_type": "markdown",
   "id": "393eaccd-2618-441b-a31a-9fb921a3ac3e",
   "metadata": {},
   "source": [
    "## ANOVA cho mô hình bậc hai "
   ]
  },
  {
   "cell_type": "code",
   "execution_count": 11,
   "id": "75a6f920-d5b9-47b5-aa64-08ba5237047e",
   "metadata": {
    "vscode": {
     "languageId": "r"
    }
   },
   "outputs": [
    {
     "data": {
      "text/html": [
       "<table class=\"dataframe\">\n",
       "<caption>A anova: 3 × 5</caption>\n",
       "<thead>\n",
       "\t<tr><th></th><th scope=col>Df</th><th scope=col>Sum Sq</th><th scope=col>Mean Sq</th><th scope=col>F value</th><th scope=col>Pr(&gt;F)</th></tr>\n",
       "\t<tr><th></th><th scope=col>&lt;int&gt;</th><th scope=col>&lt;dbl&gt;</th><th scope=col>&lt;dbl&gt;</th><th scope=col>&lt;dbl&gt;</th><th scope=col>&lt;dbl&gt;</th></tr>\n",
       "</thead>\n",
       "<tbody>\n",
       "\t<tr><th scope=row>x</th><td>1</td><td>186.00543</td><td>186.005435</td><td>84.72705</td><td>0.0002540036</td></tr>\n",
       "\t<tr><th scope=row>x2</th><td>1</td><td> 54.89282</td><td> 54.892821</td><td>25.00415</td><td>0.0041032594</td></tr>\n",
       "\t<tr><th scope=row>Residuals</th><td>5</td><td> 10.97674</td><td>  2.195349</td><td>      NA</td><td>          NA</td></tr>\n",
       "</tbody>\n",
       "</table>\n"
      ],
      "text/latex": [
       "A anova: 3 × 5\n",
       "\\begin{tabular}{r|lllll}\n",
       "  & Df & Sum Sq & Mean Sq & F value & Pr(>F)\\\\\n",
       "  & <int> & <dbl> & <dbl> & <dbl> & <dbl>\\\\\n",
       "\\hline\n",
       "\tx & 1 & 186.00543 & 186.005435 & 84.72705 & 0.0002540036\\\\\n",
       "\tx2 & 1 &  54.89282 &  54.892821 & 25.00415 & 0.0041032594\\\\\n",
       "\tResiduals & 5 &  10.97674 &   2.195349 &       NA &           NA\\\\\n",
       "\\end{tabular}\n"
      ],
      "text/markdown": [
       "\n",
       "A anova: 3 × 5\n",
       "\n",
       "| <!--/--> | Df &lt;int&gt; | Sum Sq &lt;dbl&gt; | Mean Sq &lt;dbl&gt; | F value &lt;dbl&gt; | Pr(&gt;F) &lt;dbl&gt; |\n",
       "|---|---|---|---|---|---|\n",
       "| x | 1 | 186.00543 | 186.005435 | 84.72705 | 0.0002540036 |\n",
       "| x2 | 1 |  54.89282 |  54.892821 | 25.00415 | 0.0041032594 |\n",
       "| Residuals | 5 |  10.97674 |   2.195349 |       NA |           NA |\n",
       "\n"
      ],
      "text/plain": [
       "          Df Sum Sq    Mean Sq    F value  Pr(>F)      \n",
       "x         1  186.00543 186.005435 84.72705 0.0002540036\n",
       "x2        1   54.89282  54.892821 25.00415 0.0041032594\n",
       "Residuals 5   10.97674   2.195349       NA           NA"
      ]
     },
     "metadata": {},
     "output_type": "display_data"
    }
   ],
   "source": [
    "anova(model_quad)"
   ]
  },
  {
   "cell_type": "markdown",
   "id": "9db3dab8-45a4-4b23-bf91-e6a9c34ecdcc",
   "metadata": {},
   "source": [
    "## Lack of fit test cho mô hình bậc hai "
   ]
  },
  {
   "cell_type": "code",
   "execution_count": 12,
   "id": "343fe16f-6ebe-4983-a4fa-58a169bb0710",
   "metadata": {
    "vscode": {
     "languageId": "r"
    }
   },
   "outputs": [
    {
     "data": {
      "text/html": [
       "<table class=\"dataframe\">\n",
       "<caption>A anova: 2 × 6</caption>\n",
       "<thead>\n",
       "\t<tr><th></th><th scope=col>Res.Df</th><th scope=col>RSS</th><th scope=col>Df</th><th scope=col>Sum of Sq</th><th scope=col>F</th><th scope=col>Pr(&gt;F)</th></tr>\n",
       "\t<tr><th></th><th scope=col>&lt;dbl&gt;</th><th scope=col>&lt;dbl&gt;</th><th scope=col>&lt;dbl&gt;</th><th scope=col>&lt;dbl&gt;</th><th scope=col>&lt;dbl&gt;</th><th scope=col>&lt;dbl&gt;</th></tr>\n",
       "</thead>\n",
       "<tbody>\n",
       "\t<tr><th scope=row>1</th><td>5</td><td>10.976744</td><td>NA</td><td>      NA</td><td>      NA</td><td>       NA</td></tr>\n",
       "\t<tr><th scope=row>2</th><td>4</td><td> 9.666667</td><td> 1</td><td>1.310078</td><td>0.542101</td><td>0.5024094</td></tr>\n",
       "</tbody>\n",
       "</table>\n"
      ],
      "text/latex": [
       "A anova: 2 × 6\n",
       "\\begin{tabular}{r|llllll}\n",
       "  & Res.Df & RSS & Df & Sum of Sq & F & Pr(>F)\\\\\n",
       "  & <dbl> & <dbl> & <dbl> & <dbl> & <dbl> & <dbl>\\\\\n",
       "\\hline\n",
       "\t1 & 5 & 10.976744 & NA &       NA &       NA &        NA\\\\\n",
       "\t2 & 4 &  9.666667 &  1 & 1.310078 & 0.542101 & 0.5024094\\\\\n",
       "\\end{tabular}\n"
      ],
      "text/markdown": [
       "\n",
       "A anova: 2 × 6\n",
       "\n",
       "| <!--/--> | Res.Df &lt;dbl&gt; | RSS &lt;dbl&gt; | Df &lt;dbl&gt; | Sum of Sq &lt;dbl&gt; | F &lt;dbl&gt; | Pr(&gt;F) &lt;dbl&gt; |\n",
       "|---|---|---|---|---|---|---|\n",
       "| 1 | 5 | 10.976744 | NA |       NA |       NA |        NA |\n",
       "| 2 | 4 |  9.666667 |  1 | 1.310078 | 0.542101 | 0.5024094 |\n",
       "\n"
      ],
      "text/plain": [
       "  Res.Df RSS       Df Sum of Sq F        Pr(>F)   \n",
       "1 5      10.976744 NA       NA        NA        NA\n",
       "2 4       9.666667  1 1.310078  0.542101 0.5024094"
      ]
     },
     "metadata": {},
     "output_type": "display_data"
    }
   ],
   "source": [
    "model_quad_full <- lm(y ~ factor(x), data = data)\n",
    "\n",
    "#So sánh với mô hình bậc 2\n",
    "anova(model_quad, model_quad_full)"
   ]
  }
 ],
 "metadata": {
  "kernelspec": {
   "display_name": "R",
   "language": "R",
   "name": "ir"
  },
  "language_info": {
   "codemirror_mode": "r",
   "file_extension": ".r",
   "mimetype": "text/x-r-source",
   "name": "R",
   "pygments_lexer": "r",
   "version": "4.4.3"
  }
 },
 "nbformat": 4,
 "nbformat_minor": 5
}
